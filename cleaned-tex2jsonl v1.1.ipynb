{
 "cells": [
  {
   "cell_type": "code",
   "execution_count": 2,
   "metadata": {},
   "outputs": [
    {
     "name": "stdout",
     "output_type": "stream",
     "text": [
      "C:\\Users\\3140m\\Documents\\Master Thesis\\data4tune\\Connectionism and Eliminativism\n"
     ]
    }
   ],
   "source": [
    "\n",
    "import os, json\n",
    "\n",
    "# Set the directory, which is local.\n",
    "os.chdir('C:/Users/3140m/Documents/Master Thesis/data4tune/Connectionism and Eliminativism')\n",
    "print(os.getcwd())\n"
   ]
  },
  {
   "cell_type": "code",
   "execution_count": 8,
   "metadata": {},
   "outputs": [],
   "source": [
    "# The full list of literatures of Connectionism and Eliminativism in PhilPapers.\n",
    "literature_list = [\n",
    "    \"Philosophy and Connectionist Theory\", #0\n",
    "    \"Connectionism Debates on Psychological Explanation_1\", #1\n",
    "    \"Connectionism Debates on Psychological Explanation_2\", #2\n",
    "    \"The Mind as a Scientific Object\", #3\n",
    "    \"Folk psychology and cognitive architecture\", #4\n",
    "    \"Is connectionism commonsense\", #5\n",
    "    \"Connectionism and the commitments of folk psychology\",\n",
    "    \"Connectionism and the fate of folk psychology A reply to Ramsey, Stich and Garon\",\n",
    "    \"Connectionism, eliminativism, and the semantic view of theories\",\n",
    "    \"Beliefs, functionally discrete states, and connectionist networks\",\n",
    "    \"Distributed representation and causal modularity A rejoinder to Forster and Saidel\", #10\n",
    "    \"On the threat of eliminativism\",\n",
    "    \"Eliminative connectionism Its implications for a return to an empiricistbehaviorist linguistics\",\n",
    "    \"Networks with Attitudes\",\n",
    "    \"Connectionism isnt magic\",\n",
    "    \"Asking Whats Inside the Head Neurophilosophy Meets the Extended Mind\" #15\n",
    "]\n",
    "\n",
    "# Iterate the following codes over a list.\n",
    "for i in literature_list[4:16]:\n",
    "    file_name = i\n",
    "\n",
    "    # Initialize variables to store the content\n",
    "    sections = []\n",
    "    current_section = None\n",
    "\n",
    "    # Load the cleaned LaTeX file and apply the following codes libe by line.\n",
    "    with open(f'cleaned_{file_name}.tex', 'r') as file:\n",
    "        for line in file:\n",
    "            line = line.strip()\n",
    "\n",
    "            # If we encounter a new section, store the current one (if exists).\n",
    "            if line.startswith('\\\\section') or line.startswith('\\\\subsection'):\n",
    "                if current_section:\n",
    "                    sections.append(current_section)\n",
    "                \n",
    "                # And start a new current section in the form of Alpaca prompt.\n",
    "                current_section = {\n",
    "                    'instruction': \"\",\n",
    "                    'input': \"\",\n",
    "                    'output': line\n",
    "                }\n",
    "\n",
    "            # If we do not encounter a new section and there is a current section, add content to the current section.\n",
    "            elif current_section is not None:\n",
    "                current_section['output'] += \"\\n\" + line\n",
    "\n",
    "        # Lastly, add the last section if exists\n",
    "        if current_section:\n",
    "            sections.append(current_section)\n",
    "\n",
    "    # Convert to JSONL format\n",
    "    jsonl_output = \"\"\n",
    "    for section in sections:\n",
    "        jsonl_output += json.dumps(section) + \"\\n\"\n",
    "\n",
    "    # Save the JSONL output to a file\n",
    "    jsonl_file_path = f'cleaned_{file_name}.jsonl'\n",
    "    with open(jsonl_file_path, 'w') as output_file:\n",
    "        output_file.write(jsonl_output)\n",
    "    jsonl_file_path"
   ]
  }
 ],
 "metadata": {
  "kernelspec": {
   "display_name": "Python 3",
   "language": "python",
   "name": "python3"
  },
  "language_info": {
   "codemirror_mode": {
    "name": "ipython",
    "version": 3
   },
   "file_extension": ".py",
   "mimetype": "text/x-python",
   "name": "python",
   "nbconvert_exporter": "python",
   "pygments_lexer": "ipython3",
   "version": "3.11.9"
  }
 },
 "nbformat": 4,
 "nbformat_minor": 2
}
